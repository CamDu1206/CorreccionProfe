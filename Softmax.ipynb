{
  "nbformat": 4,
  "nbformat_minor": 0,
  "metadata": {
    "colab": {
      "provenance": []
    },
    "kernelspec": {
      "name": "python3",
      "display_name": "Python 3"
    },
    "language_info": {
      "name": "python"
    }
  },
  "cells": [
    {
      "cell_type": "code",
      "execution_count": null,
      "metadata": {
        "colab": {
          "base_uri": "https://localhost:8080/",
          "height": 269
        },
        "id": "Q1e6GGkBuG-q",
        "outputId": "e5266aab-5849-4fe5-f2bb-50782a25b618"
      },
      "outputs": [
        {
          "output_type": "display_data",
          "data": {
            "text/plain": [
              "<Figure size 432x288 with 1 Axes>"
            ],
            "image/png": "[encoded data removed]"
          },
          "metadata": {
            "needs_background": "light"
          }
        }
      ],
      "source": [
        "import matplotlib.pyplot as plt\n",
        "import numpy as np\n",
        "import pandas as pd\n",
        "import math\n",
        "\n",
        "data = np.array(pd.read_csv('https://raw.githubusercontent.com/sadoky/inteligencia-_articial_ELECT/main/data.csv', header=0))\n",
        "X = data[:,0:2]\n",
        "y = data[:,2]\n",
        "W = np.array(np.random.rand(2,1))\n",
        "b = np.random.rand(1)[0]\n",
        "\n",
        "#FUNCION SOFTMAX\n",
        "valor_softmax=[]\n",
        "for j in range(len(data)):\n",
        "    score= W[0]*X[j][0]+ W[1]*X[j][1] + b\n",
        "    valor_softmax.append(score)\n",
        "       \n",
        "z_exp = [math.exp(i) for i in valor_softmax]\n",
        "sum_z_exp = sum(z_exp)\n",
        "softmax = [round(i / sum_z_exp, 3) for i in z_exp]\n",
        "\n",
        "k = np.arange(0,1,0.01)\n",
        "#plt.scatter(k,softmax, color='red')\n",
        "#plt.title('Probabilidades')\n",
        "\n",
        "softmax=np.array(softmax)\n",
        "new_softmax = softmax*100\n",
        "x_10puntos=np.linspace(0,1,10)                               \n",
        "y_10puntos=np.linspace(0,1.8,10)\n",
        "\n",
        "A,B=np.meshgrid(x_10puntos,y_10puntos)  \n",
        "plt.xlim([0,1]) \n",
        "plt.ylim([0,1.75])                            \n",
        "z_lineal=np.array((W[0]*A)+(W[1]*B)+b)                   \n",
        "\n",
        "\n",
        "#plt.figure(figsize=(9,6))\n",
        "plt.contourf(A, B, z_lineal)  \n",
        "plt.xlim() \n",
        "plt.ylim()\n",
        "new_softmax =  new_softmax / np.sqrt(np.sum(new_softmax**2))\n",
        "plt.scatter(k,new_softmax, color='red')\n",
        "x1=k= np.arange(0,1,0.1)\n",
        "x2=(-x1*W[0]+b)/W[1]\n",
        "#plt.plot(k,x2,color='red')\n",
        "plt.xlim() \n",
        "plt.ylim([0,1])\n",
        "plt.show()\n"
      ]
    },
    {
      "cell_type": "code",
      "source": [
        "sum(softmax)"
      ],
      "metadata": {
        "colab": {
          "base_uri": "https://localhost:8080/"
        },
        "id": "eireXRHzMww4",
        "outputId": "e5a91aec-ef63-41c7-9c89-e24f66fa1e67"
      },
      "execution_count": null,
      "outputs": [
        {
          "output_type": "execute_result",
          "data": {
            "text/plain": [
              "1.0010000000000008"
            ]
          },
          "metadata": {},
          "execution_count": 10
        }
      ]
    }
  ]
}