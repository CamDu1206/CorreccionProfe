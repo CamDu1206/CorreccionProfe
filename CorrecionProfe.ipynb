{
  "nbformat": 4,
  "nbformat_minor": 0,
  "metadata": {
    "colab": {
      "provenance": []
    },
    "kernelspec": {
      "name": "python3",
      "display_name": "Python 3"
    },
    "language_info": {
      "name": "python"
    }
  },
  "cells": [
    {
      "cell_type": "code",
      "execution_count": 1,
      "metadata": {
        "id": "LbO9q1drWOX3"
      },
      "outputs": [],
      "source": [
        "import matplotlib.pyplot as plt\n",
        "import numpy as np\n",
        "import pandas as pd\n",
        "\n",
        "%matplotlib inline\n",
        "\n",
        "# datos random\n",
        "np.random.seed(42)\n",
        "\n",
        "#datos:\n",
        "datos= pd.read_csv('https://raw.githubusercontent.com/sadoky/inteligencia-_articial_ELECT/main/data.csv')\n",
        "datos = np.array(datos) #Se convierten a arreglo numérico\n",
        "X_test=[]\n",
        "Y_test=[]\n",
        "for i in range(100):\n",
        "    X_test.append([datos[i,0],datos[i,1]])\n",
        "    Y_test.append(datos[i,2])\n",
        "X_test=np.array(X_test)\n",
        "Y_test=np.array(Y_test)\n",
        "\n",
        "#funcion escalon\n",
        "def escalon(t):\n",
        "    if t >= 0:\n",
        "        return 1\n",
        "    return 0\n",
        "\n",
        "def prediccion(X, W, b):\n",
        "    return escalon((np.matmul(X,W)+b)[0])\n",
        "\n",
        "# TODO: Algoritmo Perceptron.\n",
        "def perceptron_escalon(X, y, W, b, learn_rate = 0.01):\n",
        "    for i in range(len(X)):\n",
        "        valor_esperado = prediccion(X[i],W,b)\n",
        "        if y[i]-valor_esperado == 1:\n",
        "            W[0] += X[i][0]*learn_rate\n",
        "            W[1] += X[i][1]*learn_rate\n",
        "            b += learn_rate\n",
        "        else:\n",
        "            W[0] -= X[i][0]*learn_rate\n",
        "            W[1] -= X[i][1]*learn_rate\n",
        "            b -= learn_rate\n",
        "    return W, b\n",
        "  \n",
        "W_test = np.array([[0.3], [0.5]])\n",
        "b_test = 1 #bias \n",
        "learn_rate=0.01\n",
        "pesos=np.random.uniform(-1,1, size=2)\n",
        "b=np.random.uniform(-1,1) #umbral\n",
        "boundary_lines=[]\n",
        "\n",
        "\n",
        "\n"
      ]
    },
    {
      "cell_type": "code",
      "source": [
        "def entrenamiento(X, y, learn_rate=0.013, num_epochs=100):\n",
        "    \"\"\"\n",
        "    Esta funcion entrena el perceptron repetidamente en el dataset y retorna las lineas de clasificacion\n",
        "    obtenidas en las iteraciones,\n",
        "    \n",
        "    \"\"\"\n",
        "    x_min, x_max = min(X.T[0]), max(X.T[0])\n",
        "    y_min, y_max = min(X.T[1]), max(X.T[1])\n",
        "    W = np.array(np.random.rand(2,1))\n",
        "    \n",
        "    b = np.random.rand(1)[0] + x_max\n",
        "    \n",
        "    # Lineas que seran ploteadas.\n",
        "    lineas = []\n",
        "    for i in range(num_epochs):\n",
        "        # En cada epoch, se aplica el perceptron.\n",
        "        W, b = perceptron_escalon(X, y, W, b, learn_rate)\n",
        "        lineas.append((-W[0]/W[1], -b/W[1]))\n",
        "        \n",
        "    return lineas\n",
        "\n",
        "def plot_line(m, b, linestyle='dashed', color='gray', fill=False):\n",
        "    \"\"\"\n",
        "    Helper function to avoid repetitive code when plotting boundary lines\n",
        "    \"\"\"\n",
        "    x = np.arange(-1, 1.5, 0.1)\n",
        "    m=-1\n",
        "    b=1\n",
        "    plt.plot(x, m*x+b, linestyle=linestyle, color=color)\n",
        "    if fill:\n",
        "        plt.fill_between(x, m*x+b, -0.05, color=blue, alpha=0.3)\n",
        "        plt.fill_between(x, m*x+b, 1.05, color=red, alpha=0.3)\n",
        "\n",
        "\n",
        "\n",
        "# Cargamos data\n",
        "data = np.asarray(pd.read_csv(\"https://raw.githubusercontent.com/sadoky/inteligencia-_articial_ELECT/main/data.csv\"))\n",
        "X = data[:,0:2]\n",
        "y = data[:,2]\n",
        "\n",
        "\n",
        "# Modifique a su criterio la learning rate y en numero de epoch \n",
        "lineas = entrenamiento(X, y)\n",
        "\n",
        "# Estilo Plot\n",
        "plt.xlim(-0.05,1.05)\n",
        "plt.ylim(-0.05,1.05)\n",
        "plt.grid(False)\n",
        "plt.tick_params(axis='x', which='both', bottom='off', top='off')\n",
        "\n",
        "# Scatter para el grafico\n",
        "red = [1,0.3,0.3]\n",
        "blue = [0.25,0.5,1]\n",
        "red_points = X[np.argwhere(y==0).flatten()]\n",
        "blue_points = X[np.argwhere(y==1).flatten()]\n",
        "plt.scatter(red_points[:,0], red_points[:,1], s=50, color=red, edgecolor='k')\n",
        "plt.scatter(blue_points[:,0], blue_points[:,1], s=50, color=blue, edgecolor='k')\n",
        "\n",
        "\n",
        "\n",
        "# Plotea lineas y regiones solucion.\n",
        "for line in lineas:\n",
        "    slope = line[0]\n",
        "    b = line[1]\n",
        "    plot_line(slope, b)\n",
        "solution_slope = lineas[-1][0]\n",
        "solution_intercept = lineas[-1][1]\n",
        "plot_line(solution_slope, solution_intercept, 'solid', 'k', True)\n",
        "  "
      ],
      "metadata": {
        "colab": {
          "base_uri": "https://localhost:8080/",
          "height": 269
        },
        "id": "qdbaMtnSWRVl",
        "outputId": "23173ee2-94d2-4c01-bc50-e67b72af8a18"
      },
      "execution_count": 2,
      "outputs": [
        {
          "output_type": "display_data",
          "data": {
            "text/plain": [
              "<Figure size 432x288 with 1 Axes>"
            ],
            "image/png": "[encoded data removed]"
          },
          "metadata": {
            "needs_background": "light"
          }
        }
      ]
    }
  ]
}